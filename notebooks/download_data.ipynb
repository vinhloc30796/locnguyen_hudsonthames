{
 "cells": [
  {
   "cell_type": "code",
   "execution_count": 1,
   "metadata": {},
   "outputs": [],
   "source": [
    "# Import packages\n",
    "import numpy as np\n",
    "import pandas as pd\n",
    "from datetime import datetime\n",
    "# Import my packages\n",
    "import sys\n",
    "import os\n",
    "path_to_package = os.path.abspath(\n",
    "    os.path.join('..')\n",
    ")\n",
    "sys.path.append(path_to_package)\n",
    "from download_data import StockUniverse"
   ]
  },
  {
   "cell_type": "code",
   "execution_count": 36,
   "metadata": {},
   "outputs": [
    {
     "output_type": "stream",
     "name": "stdout",
     "text": [
      "[*********************100%***********************]  2 of 2 completed\n",
      "Saved file successfully at ../data/test_2020-10-23.pkl\n"
     ]
    },
    {
     "output_type": "execute_result",
     "data": {
      "text/plain": [
       "             Adj Close                   Close                    High  \\\n",
       "                  AAPL        MSFT        AAPL        MSFT        AAPL   \n",
       "Date                                                                     \n",
       "2017-01-03   27.548414   58.826855   29.037500   62.580002   29.082500   \n",
       "2017-01-04   27.517582   58.563644   29.004999   62.299999   29.127501   \n",
       "2017-01-05   27.657520   58.563644   29.152500   62.299999   29.215000   \n",
       "2017-01-06   27.965857   59.071262   29.477501   62.840000   29.540001   \n",
       "2017-01-09   28.222006   58.883255   29.747499   62.639999   29.857500   \n",
       "...                ...         ...         ...         ...         ...   \n",
       "2020-10-16  119.019997  219.660004  119.019997  219.660004  121.550003   \n",
       "2020-10-19  115.980003  214.220001  115.980003  214.220001  120.419998   \n",
       "2020-10-20  117.510002  214.649994  117.510002  214.649994  118.980003   \n",
       "2020-10-21  116.870003  214.800003  116.870003  214.800003  118.709999   \n",
       "2020-10-22  115.750000  214.889999  115.750000  214.889999  118.040001   \n",
       "\n",
       "                               Low                    Open              \\\n",
       "                  MSFT        AAPL        MSFT        AAPL        MSFT   \n",
       "Date                                                                     \n",
       "2017-01-03   62.840000   28.690001   62.130001   28.950001   62.790001   \n",
       "2017-01-04   62.750000   28.937500   62.119999   28.962500   62.480000   \n",
       "2017-01-05   62.660000   28.952499   62.029999   28.980000   62.189999   \n",
       "2017-01-06   63.150002   29.117500   62.040001   29.195000   62.299999   \n",
       "2017-01-09   63.080002   29.485001   62.540001   29.487499   62.759998   \n",
       "...                ...         ...         ...         ...         ...   \n",
       "2020-10-16  222.289993  118.809998  219.320007  121.279999  220.149994   \n",
       "2020-10-19  222.300003  115.660004  213.720001  119.959999  220.419998   \n",
       "2020-10-20  217.369995  115.629997  213.089996  116.199997  215.800003   \n",
       "2020-10-21  216.919998  116.449997  213.119995  116.669998  213.119995   \n",
       "2020-10-22  216.059998  114.589996  211.699997  117.449997  213.929993   \n",
       "\n",
       "               Volume            \n",
       "                 AAPL      MSFT  \n",
       "Date                             \n",
       "2017-01-03  115127600  20694100  \n",
       "2017-01-04   84472400  21340000  \n",
       "2017-01-05   88774400  24876000  \n",
       "2017-01-06  127007600  19922900  \n",
       "2017-01-09  134247600  20382700  \n",
       "...               ...       ...  \n",
       "2020-10-16  115393800  26057900  \n",
       "2020-10-19  120639300  27625800  \n",
       "2020-10-20  124423700  22753500  \n",
       "2020-10-21   89946000  22724900  \n",
       "2020-10-22  101709700  22334100  \n",
       "\n",
       "[959 rows x 12 columns]"
      ],
      "text/html": "<div>\n<style scoped>\n    .dataframe tbody tr th:only-of-type {\n        vertical-align: middle;\n    }\n\n    .dataframe tbody tr th {\n        vertical-align: top;\n    }\n\n    .dataframe thead tr th {\n        text-align: left;\n    }\n\n    .dataframe thead tr:last-of-type th {\n        text-align: right;\n    }\n</style>\n<table border=\"1\" class=\"dataframe\">\n  <thead>\n    <tr>\n      <th></th>\n      <th colspan=\"2\" halign=\"left\">Adj Close</th>\n      <th colspan=\"2\" halign=\"left\">Close</th>\n      <th colspan=\"2\" halign=\"left\">High</th>\n      <th colspan=\"2\" halign=\"left\">Low</th>\n      <th colspan=\"2\" halign=\"left\">Open</th>\n      <th colspan=\"2\" halign=\"left\">Volume</th>\n    </tr>\n    <tr>\n      <th></th>\n      <th>AAPL</th>\n      <th>MSFT</th>\n      <th>AAPL</th>\n      <th>MSFT</th>\n      <th>AAPL</th>\n      <th>MSFT</th>\n      <th>AAPL</th>\n      <th>MSFT</th>\n      <th>AAPL</th>\n      <th>MSFT</th>\n      <th>AAPL</th>\n      <th>MSFT</th>\n    </tr>\n    <tr>\n      <th>Date</th>\n      <th></th>\n      <th></th>\n      <th></th>\n      <th></th>\n      <th></th>\n      <th></th>\n      <th></th>\n      <th></th>\n      <th></th>\n      <th></th>\n      <th></th>\n      <th></th>\n    </tr>\n  </thead>\n  <tbody>\n    <tr>\n      <th>2017-01-03</th>\n      <td>27.548414</td>\n      <td>58.826855</td>\n      <td>29.037500</td>\n      <td>62.580002</td>\n      <td>29.082500</td>\n      <td>62.840000</td>\n      <td>28.690001</td>\n      <td>62.130001</td>\n      <td>28.950001</td>\n      <td>62.790001</td>\n      <td>115127600</td>\n      <td>20694100</td>\n    </tr>\n    <tr>\n      <th>2017-01-04</th>\n      <td>27.517582</td>\n      <td>58.563644</td>\n      <td>29.004999</td>\n      <td>62.299999</td>\n      <td>29.127501</td>\n      <td>62.750000</td>\n      <td>28.937500</td>\n      <td>62.119999</td>\n      <td>28.962500</td>\n      <td>62.480000</td>\n      <td>84472400</td>\n      <td>21340000</td>\n    </tr>\n    <tr>\n      <th>2017-01-05</th>\n      <td>27.657520</td>\n      <td>58.563644</td>\n      <td>29.152500</td>\n      <td>62.299999</td>\n      <td>29.215000</td>\n      <td>62.660000</td>\n      <td>28.952499</td>\n      <td>62.029999</td>\n      <td>28.980000</td>\n      <td>62.189999</td>\n      <td>88774400</td>\n      <td>24876000</td>\n    </tr>\n    <tr>\n      <th>2017-01-06</th>\n      <td>27.965857</td>\n      <td>59.071262</td>\n      <td>29.477501</td>\n      <td>62.840000</td>\n      <td>29.540001</td>\n      <td>63.150002</td>\n      <td>29.117500</td>\n      <td>62.040001</td>\n      <td>29.195000</td>\n      <td>62.299999</td>\n      <td>127007600</td>\n      <td>19922900</td>\n    </tr>\n    <tr>\n      <th>2017-01-09</th>\n      <td>28.222006</td>\n      <td>58.883255</td>\n      <td>29.747499</td>\n      <td>62.639999</td>\n      <td>29.857500</td>\n      <td>63.080002</td>\n      <td>29.485001</td>\n      <td>62.540001</td>\n      <td>29.487499</td>\n      <td>62.759998</td>\n      <td>134247600</td>\n      <td>20382700</td>\n    </tr>\n    <tr>\n      <th>...</th>\n      <td>...</td>\n      <td>...</td>\n      <td>...</td>\n      <td>...</td>\n      <td>...</td>\n      <td>...</td>\n      <td>...</td>\n      <td>...</td>\n      <td>...</td>\n      <td>...</td>\n      <td>...</td>\n      <td>...</td>\n    </tr>\n    <tr>\n      <th>2020-10-16</th>\n      <td>119.019997</td>\n      <td>219.660004</td>\n      <td>119.019997</td>\n      <td>219.660004</td>\n      <td>121.550003</td>\n      <td>222.289993</td>\n      <td>118.809998</td>\n      <td>219.320007</td>\n      <td>121.279999</td>\n      <td>220.149994</td>\n      <td>115393800</td>\n      <td>26057900</td>\n    </tr>\n    <tr>\n      <th>2020-10-19</th>\n      <td>115.980003</td>\n      <td>214.220001</td>\n      <td>115.980003</td>\n      <td>214.220001</td>\n      <td>120.419998</td>\n      <td>222.300003</td>\n      <td>115.660004</td>\n      <td>213.720001</td>\n      <td>119.959999</td>\n      <td>220.419998</td>\n      <td>120639300</td>\n      <td>27625800</td>\n    </tr>\n    <tr>\n      <th>2020-10-20</th>\n      <td>117.510002</td>\n      <td>214.649994</td>\n      <td>117.510002</td>\n      <td>214.649994</td>\n      <td>118.980003</td>\n      <td>217.369995</td>\n      <td>115.629997</td>\n      <td>213.089996</td>\n      <td>116.199997</td>\n      <td>215.800003</td>\n      <td>124423700</td>\n      <td>22753500</td>\n    </tr>\n    <tr>\n      <th>2020-10-21</th>\n      <td>116.870003</td>\n      <td>214.800003</td>\n      <td>116.870003</td>\n      <td>214.800003</td>\n      <td>118.709999</td>\n      <td>216.919998</td>\n      <td>116.449997</td>\n      <td>213.119995</td>\n      <td>116.669998</td>\n      <td>213.119995</td>\n      <td>89946000</td>\n      <td>22724900</td>\n    </tr>\n    <tr>\n      <th>2020-10-22</th>\n      <td>115.750000</td>\n      <td>214.889999</td>\n      <td>115.750000</td>\n      <td>214.889999</td>\n      <td>118.040001</td>\n      <td>216.059998</td>\n      <td>114.589996</td>\n      <td>211.699997</td>\n      <td>117.449997</td>\n      <td>213.929993</td>\n      <td>101709700</td>\n      <td>22334100</td>\n    </tr>\n  </tbody>\n</table>\n<p>959 rows × 12 columns</p>\n</div>"
     },
     "metadata": {},
     "execution_count": 36
    }
   ],
   "source": [
    "# Test out __main__ with ['AAPL', 'MSFT']\n",
    "test = StockUniverse()\n",
    "test.download_data(['AAPL', 'MSFT'])\n",
    "test.store_pickle(indicator_select=['O', 'V'], filename=f'../data/test_{datetime.today().strftime(\"%Y-%m-%d\")}.pkl')\n",
    "test.df"
   ]
  },
  {
   "cell_type": "code",
   "execution_count": 37,
   "metadata": {},
   "outputs": [
    {
     "output_type": "execute_result",
     "data": {
      "text/plain": [
       "                  Open                 Volume          \n",
       "                  AAPL        MSFT       AAPL      MSFT\n",
       "Date                                                   \n",
       "2017-01-03   28.950001   62.790001  115127600  20694100\n",
       "2017-01-04   28.962500   62.480000   84472400  21340000\n",
       "2017-01-05   28.980000   62.189999   88774400  24876000\n",
       "2017-01-06   29.195000   62.299999  127007600  19922900\n",
       "2017-01-09   29.487499   62.759998  134247600  20382700\n",
       "...                ...         ...        ...       ...\n",
       "2020-10-16  121.279999  220.149994  115393800  26057900\n",
       "2020-10-19  119.959999  220.419998  120639300  27625800\n",
       "2020-10-20  116.199997  215.800003  124423700  22753500\n",
       "2020-10-21  116.669998  213.119995   89946000  22724900\n",
       "2020-10-22  117.449997  213.929993  101709700  22334100\n",
       "\n",
       "[959 rows x 4 columns]"
      ],
      "text/html": "<div>\n<style scoped>\n    .dataframe tbody tr th:only-of-type {\n        vertical-align: middle;\n    }\n\n    .dataframe tbody tr th {\n        vertical-align: top;\n    }\n\n    .dataframe thead tr th {\n        text-align: left;\n    }\n\n    .dataframe thead tr:last-of-type th {\n        text-align: right;\n    }\n</style>\n<table border=\"1\" class=\"dataframe\">\n  <thead>\n    <tr>\n      <th></th>\n      <th colspan=\"2\" halign=\"left\">Open</th>\n      <th colspan=\"2\" halign=\"left\">Volume</th>\n    </tr>\n    <tr>\n      <th></th>\n      <th>AAPL</th>\n      <th>MSFT</th>\n      <th>AAPL</th>\n      <th>MSFT</th>\n    </tr>\n    <tr>\n      <th>Date</th>\n      <th></th>\n      <th></th>\n      <th></th>\n      <th></th>\n    </tr>\n  </thead>\n  <tbody>\n    <tr>\n      <th>2017-01-03</th>\n      <td>28.950001</td>\n      <td>62.790001</td>\n      <td>115127600</td>\n      <td>20694100</td>\n    </tr>\n    <tr>\n      <th>2017-01-04</th>\n      <td>28.962500</td>\n      <td>62.480000</td>\n      <td>84472400</td>\n      <td>21340000</td>\n    </tr>\n    <tr>\n      <th>2017-01-05</th>\n      <td>28.980000</td>\n      <td>62.189999</td>\n      <td>88774400</td>\n      <td>24876000</td>\n    </tr>\n    <tr>\n      <th>2017-01-06</th>\n      <td>29.195000</td>\n      <td>62.299999</td>\n      <td>127007600</td>\n      <td>19922900</td>\n    </tr>\n    <tr>\n      <th>2017-01-09</th>\n      <td>29.487499</td>\n      <td>62.759998</td>\n      <td>134247600</td>\n      <td>20382700</td>\n    </tr>\n    <tr>\n      <th>...</th>\n      <td>...</td>\n      <td>...</td>\n      <td>...</td>\n      <td>...</td>\n    </tr>\n    <tr>\n      <th>2020-10-16</th>\n      <td>121.279999</td>\n      <td>220.149994</td>\n      <td>115393800</td>\n      <td>26057900</td>\n    </tr>\n    <tr>\n      <th>2020-10-19</th>\n      <td>119.959999</td>\n      <td>220.419998</td>\n      <td>120639300</td>\n      <td>27625800</td>\n    </tr>\n    <tr>\n      <th>2020-10-20</th>\n      <td>116.199997</td>\n      <td>215.800003</td>\n      <td>124423700</td>\n      <td>22753500</td>\n    </tr>\n    <tr>\n      <th>2020-10-21</th>\n      <td>116.669998</td>\n      <td>213.119995</td>\n      <td>89946000</td>\n      <td>22724900</td>\n    </tr>\n    <tr>\n      <th>2020-10-22</th>\n      <td>117.449997</td>\n      <td>213.929993</td>\n      <td>101709700</td>\n      <td>22334100</td>\n    </tr>\n  </tbody>\n</table>\n<p>959 rows × 4 columns</p>\n</div>"
     },
     "metadata": {},
     "execution_count": 37
    }
   ],
   "source": [
    "# Test read_pickle()\n",
    "test = StockUniverse()\n",
    "test.read_pickle(filename=f'../data/test_{datetime.today().strftime(\"%Y-%m-%d\")}.pkl')"
   ]
  },
  {
   "cell_type": "code",
   "execution_count": 62,
   "metadata": {},
   "outputs": [
    {
     "output_type": "execute_result",
     "data": {
      "text/plain": [
       "FrozenList([['Adj Close', 'Close', 'High', 'Low', 'Open', 'Volume'], ['AAPL', 'MSFT']])"
      ]
     },
     "metadata": {},
     "execution_count": 62
    }
   ],
   "source": [
    "# Test calc_normalized_returns(['O'])\n",
    "_ = test.calc_normalized_returns(['O', 'V'])\n",
    "new_col_names = [each_col_name + ' Returns'  for each_col_name in _.columns.get_level_values(0).unique()]\n",
    "_.columns."
   ]
  }
 ],
 "metadata": {
  "kernelspec": {
   "display_name": "Python 3",
   "language": "python",
   "name": "python3"
  },
  "language_info": {
   "codemirror_mode": {
    "name": "ipython",
    "version": 3
   },
   "file_extension": ".py",
   "mimetype": "text/x-python",
   "name": "python",
   "nbconvert_exporter": "python",
   "pygments_lexer": "ipython3",
   "version": "3.8.3-final"
  }
 },
 "nbformat": 4,
 "nbformat_minor": 4
}